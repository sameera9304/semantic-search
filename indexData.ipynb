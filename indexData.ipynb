{
 "cells": [
  {
   "cell_type": "code",
   "execution_count": 3,
   "metadata": {},
   "outputs": [],
   "source": [
    "from elasticsearch import Elasticsearch\n"
   ]
  },
  {
   "cell_type": "code",
   "execution_count": 4,
   "metadata": {},
   "outputs": [
    {
     "data": {
      "text/plain": [
       "True"
      ]
     },
     "execution_count": 4,
     "metadata": {},
     "output_type": "execute_result"
    }
   ],
   "source": [
    "es = Elasticsearch(\n",
    "    \"https://localhost:9200\",\n",
    "    basic_auth =(\"elastic\", \"Mira@2004\"),\n",
    "    ca_certs=\"D:/elasticsearch-8.17.0-windows-x86_64/elasticsearch-8.17.0/config/certs/http_ca.crt\"\n",
    ")\n",
    "\n",
    "es.ping()"
   ]
  },
  {
   "cell_type": "markdown",
   "metadata": {},
   "source": [
    "## Preparing the Data"
   ]
  },
  {
   "cell_type": "code",
   "execution_count": 6,
   "metadata": {},
   "outputs": [
    {
     "data": {
      "text/html": [
       "<div>\n",
       "<style scoped>\n",
       "    .dataframe tbody tr th:only-of-type {\n",
       "        vertical-align: middle;\n",
       "    }\n",
       "\n",
       "    .dataframe tbody tr th {\n",
       "        vertical-align: top;\n",
       "    }\n",
       "\n",
       "    .dataframe thead th {\n",
       "        text-align: right;\n",
       "    }\n",
       "</style>\n",
       "<table border=\"1\" class=\"dataframe\">\n",
       "  <thead>\n",
       "    <tr style=\"text-align: right;\">\n",
       "      <th></th>\n",
       "      <th>ProductID</th>\n",
       "      <th>ProductName</th>\n",
       "      <th>ProductBrand</th>\n",
       "      <th>Gender</th>\n",
       "      <th>Price (INR)</th>\n",
       "      <th>NumImages</th>\n",
       "      <th>Description</th>\n",
       "      <th>PrimaryColor</th>\n",
       "    </tr>\n",
       "  </thead>\n",
       "  <tbody>\n",
       "    <tr>\n",
       "      <th>0</th>\n",
       "      <td>10017413</td>\n",
       "      <td>DKNY Unisex Black &amp; Grey Printed Medium Trolle...</td>\n",
       "      <td>DKNY</td>\n",
       "      <td>Unisex</td>\n",
       "      <td>11745</td>\n",
       "      <td>7</td>\n",
       "      <td>Black and grey printed medium trolley bag, sec...</td>\n",
       "      <td>Black</td>\n",
       "    </tr>\n",
       "    <tr>\n",
       "      <th>1</th>\n",
       "      <td>10016283</td>\n",
       "      <td>EthnoVogue Women Beige &amp; Grey Made to Measure ...</td>\n",
       "      <td>EthnoVogue</td>\n",
       "      <td>Women</td>\n",
       "      <td>5810</td>\n",
       "      <td>7</td>\n",
       "      <td>Beige &amp; Grey made to measure kurta with churid...</td>\n",
       "      <td>Beige</td>\n",
       "    </tr>\n",
       "    <tr>\n",
       "      <th>2</th>\n",
       "      <td>10009781</td>\n",
       "      <td>SPYKAR Women Pink Alexa Super Skinny Fit High-...</td>\n",
       "      <td>SPYKAR</td>\n",
       "      <td>Women</td>\n",
       "      <td>899</td>\n",
       "      <td>7</td>\n",
       "      <td>Pink coloured wash 5-pocket high-rise cropped ...</td>\n",
       "      <td>Pink</td>\n",
       "    </tr>\n",
       "    <tr>\n",
       "      <th>3</th>\n",
       "      <td>10015921</td>\n",
       "      <td>Raymond Men Blue Self-Design Single-Breasted B...</td>\n",
       "      <td>Raymond</td>\n",
       "      <td>Men</td>\n",
       "      <td>5599</td>\n",
       "      <td>5</td>\n",
       "      <td>Blue self-design bandhgala suitBlue self-desig...</td>\n",
       "      <td>Blue</td>\n",
       "    </tr>\n",
       "    <tr>\n",
       "      <th>4</th>\n",
       "      <td>10017833</td>\n",
       "      <td>Parx Men Brown &amp; Off-White Slim Fit Printed Ca...</td>\n",
       "      <td>Parx</td>\n",
       "      <td>Men</td>\n",
       "      <td>759</td>\n",
       "      <td>5</td>\n",
       "      <td>Brown and off-white printed casual shirt, has ...</td>\n",
       "      <td>White</td>\n",
       "    </tr>\n",
       "  </tbody>\n",
       "</table>\n",
       "</div>"
      ],
      "text/plain": [
       "   ProductID                                        ProductName ProductBrand  \\\n",
       "0   10017413  DKNY Unisex Black & Grey Printed Medium Trolle...         DKNY   \n",
       "1   10016283  EthnoVogue Women Beige & Grey Made to Measure ...   EthnoVogue   \n",
       "2   10009781  SPYKAR Women Pink Alexa Super Skinny Fit High-...       SPYKAR   \n",
       "3   10015921  Raymond Men Blue Self-Design Single-Breasted B...      Raymond   \n",
       "4   10017833  Parx Men Brown & Off-White Slim Fit Printed Ca...         Parx   \n",
       "\n",
       "   Gender  Price (INR)  NumImages  \\\n",
       "0  Unisex        11745          7   \n",
       "1   Women         5810          7   \n",
       "2   Women          899          7   \n",
       "3     Men         5599          5   \n",
       "4     Men          759          5   \n",
       "\n",
       "                                         Description PrimaryColor  \n",
       "0  Black and grey printed medium trolley bag, sec...        Black  \n",
       "1  Beige & Grey made to measure kurta with churid...        Beige  \n",
       "2  Pink coloured wash 5-pocket high-rise cropped ...         Pink  \n",
       "3  Blue self-design bandhgala suitBlue self-desig...         Blue  \n",
       "4  Brown and off-white printed casual shirt, has ...        White  "
      ]
     },
     "execution_count": 6,
     "metadata": {},
     "output_type": "execute_result"
    }
   ],
   "source": [
    "import pandas as pd\n",
    "\n",
    "df = pd.read_csv(\"myntra_products_catalog.csv\").loc[:499]\n",
    "df.head()"
   ]
  },
  {
   "cell_type": "code",
   "execution_count": 7,
   "metadata": {},
   "outputs": [
    {
     "data": {
      "text/plain": [
       "ProductID  ProductName  ProductBrand  Gender  Price (INR)  NumImages  Description  PrimaryColor\n",
       "False      False        False         False   False        False      False        False           468\n",
       "                                                                                   True             32\n",
       "Name: count, dtype: int64"
      ]
     },
     "execution_count": 7,
     "metadata": {},
     "output_type": "execute_result"
    }
   ],
   "source": [
    "df.isna().value_counts()"
   ]
  },
  {
   "cell_type": "code",
   "execution_count": 9,
   "metadata": {},
   "outputs": [],
   "source": [
    "df.fillna('None', inplace=True)"
   ]
  },
  {
   "cell_type": "markdown",
   "metadata": {},
   "source": [
    "## Convert the relavent feild to Vector using BERT Model"
   ]
  },
  {
   "cell_type": "code",
   "execution_count": 10,
   "metadata": {},
   "outputs": [
    {
     "name": "stderr",
     "output_type": "stream",
     "text": [
      "c:\\Users\\SAMEERA\\.conda\\envs\\semantic-search\\lib\\site-packages\\tqdm\\auto.py:21: TqdmWarning: IProgress not found. Please update jupyter and ipywidgets. See https://ipywidgets.readthedocs.io/en/stable/user_install.html\n",
      "  from .autonotebook import tqdm as notebook_tqdm\n",
      "c:\\Users\\SAMEERA\\.conda\\envs\\semantic-search\\lib\\site-packages\\huggingface_hub\\file_download.py:140: UserWarning: `huggingface_hub` cache-system uses symlinks by default to efficiently store duplicated files but your machine does not support them in C:\\Users\\SAMEERA\\.cache\\huggingface\\hub\\models--sentence-transformers--all-mpnet-base-v2. Caching files will still work but in a degraded version that might require more space on your disk. This warning can be disabled by setting the `HF_HUB_DISABLE_SYMLINKS_WARNING` environment variable. For more details, see https://huggingface.co/docs/huggingface_hub/how-to-cache#limitations.\n",
      "To support symlinks on Windows, you either need to activate Developer Mode or to run Python as an administrator. In order to activate developer mode, see this article: https://docs.microsoft.com/en-us/windows/apps/get-started/enable-your-device-for-development\n",
      "  warnings.warn(message)\n"
     ]
    }
   ],
   "source": [
    "from sentence_transformers import SentenceTransformer\n",
    "model = SentenceTransformer(\"all-mpnet-base-v2\")"
   ]
  },
  {
   "cell_type": "code",
   "execution_count": 11,
   "metadata": {},
   "outputs": [],
   "source": [
    "df[\"DescriptionVector\"] = df[\"Description\"].apply(lambda x: model.encode(x))    "
   ]
  },
  {
   "cell_type": "code",
   "execution_count": 13,
   "metadata": {},
   "outputs": [
    {
     "data": {
      "text/html": [
       "<div>\n",
       "<style scoped>\n",
       "    .dataframe tbody tr th:only-of-type {\n",
       "        vertical-align: middle;\n",
       "    }\n",
       "\n",
       "    .dataframe tbody tr th {\n",
       "        vertical-align: top;\n",
       "    }\n",
       "\n",
       "    .dataframe thead th {\n",
       "        text-align: right;\n",
       "    }\n",
       "</style>\n",
       "<table border=\"1\" class=\"dataframe\">\n",
       "  <thead>\n",
       "    <tr style=\"text-align: right;\">\n",
       "      <th></th>\n",
       "      <th>ProductID</th>\n",
       "      <th>ProductName</th>\n",
       "      <th>ProductBrand</th>\n",
       "      <th>Gender</th>\n",
       "      <th>Price (INR)</th>\n",
       "      <th>NumImages</th>\n",
       "      <th>Description</th>\n",
       "      <th>PrimaryColor</th>\n",
       "      <th>DescriptionVector</th>\n",
       "    </tr>\n",
       "  </thead>\n",
       "  <tbody>\n",
       "    <tr>\n",
       "      <th>0</th>\n",
       "      <td>10017413</td>\n",
       "      <td>DKNY Unisex Black &amp; Grey Printed Medium Trolle...</td>\n",
       "      <td>DKNY</td>\n",
       "      <td>Unisex</td>\n",
       "      <td>11745</td>\n",
       "      <td>7</td>\n",
       "      <td>Black and grey printed medium trolley bag, sec...</td>\n",
       "      <td>Black</td>\n",
       "      <td>[0.027645713, -0.0026341556, -0.003588426, 0.0...</td>\n",
       "    </tr>\n",
       "    <tr>\n",
       "      <th>1</th>\n",
       "      <td>10016283</td>\n",
       "      <td>EthnoVogue Women Beige &amp; Grey Made to Measure ...</td>\n",
       "      <td>EthnoVogue</td>\n",
       "      <td>Women</td>\n",
       "      <td>5810</td>\n",
       "      <td>7</td>\n",
       "      <td>Beige &amp; Grey made to measure kurta with churid...</td>\n",
       "      <td>Beige</td>\n",
       "      <td>[-0.024660744, -0.028755462, -0.02033244, 0.03...</td>\n",
       "    </tr>\n",
       "    <tr>\n",
       "      <th>2</th>\n",
       "      <td>10009781</td>\n",
       "      <td>SPYKAR Women Pink Alexa Super Skinny Fit High-...</td>\n",
       "      <td>SPYKAR</td>\n",
       "      <td>Women</td>\n",
       "      <td>899</td>\n",
       "      <td>7</td>\n",
       "      <td>Pink coloured wash 5-pocket high-rise cropped ...</td>\n",
       "      <td>Pink</td>\n",
       "      <td>[-0.046943355, 0.08182783, 0.048335187, -0.000...</td>\n",
       "    </tr>\n",
       "    <tr>\n",
       "      <th>3</th>\n",
       "      <td>10015921</td>\n",
       "      <td>Raymond Men Blue Self-Design Single-Breasted B...</td>\n",
       "      <td>Raymond</td>\n",
       "      <td>Men</td>\n",
       "      <td>5599</td>\n",
       "      <td>5</td>\n",
       "      <td>Blue self-design bandhgala suitBlue self-desig...</td>\n",
       "      <td>Blue</td>\n",
       "      <td>[-0.015098742, -0.010285478, 0.009487344, -0.0...</td>\n",
       "    </tr>\n",
       "    <tr>\n",
       "      <th>4</th>\n",
       "      <td>10017833</td>\n",
       "      <td>Parx Men Brown &amp; Off-White Slim Fit Printed Ca...</td>\n",
       "      <td>Parx</td>\n",
       "      <td>Men</td>\n",
       "      <td>759</td>\n",
       "      <td>5</td>\n",
       "      <td>Brown and off-white printed casual shirt, has ...</td>\n",
       "      <td>White</td>\n",
       "      <td>[-0.017746514, 0.0062095993, 0.021813946, 0.02...</td>\n",
       "    </tr>\n",
       "  </tbody>\n",
       "</table>\n",
       "</div>"
      ],
      "text/plain": [
       "   ProductID                                        ProductName ProductBrand  \\\n",
       "0   10017413  DKNY Unisex Black & Grey Printed Medium Trolle...         DKNY   \n",
       "1   10016283  EthnoVogue Women Beige & Grey Made to Measure ...   EthnoVogue   \n",
       "2   10009781  SPYKAR Women Pink Alexa Super Skinny Fit High-...       SPYKAR   \n",
       "3   10015921  Raymond Men Blue Self-Design Single-Breasted B...      Raymond   \n",
       "4   10017833  Parx Men Brown & Off-White Slim Fit Printed Ca...         Parx   \n",
       "\n",
       "   Gender  Price (INR)  NumImages  \\\n",
       "0  Unisex        11745          7   \n",
       "1   Women         5810          7   \n",
       "2   Women          899          7   \n",
       "3     Men         5599          5   \n",
       "4     Men          759          5   \n",
       "\n",
       "                                         Description PrimaryColor  \\\n",
       "0  Black and grey printed medium trolley bag, sec...        Black   \n",
       "1  Beige & Grey made to measure kurta with churid...        Beige   \n",
       "2  Pink coloured wash 5-pocket high-rise cropped ...         Pink   \n",
       "3  Blue self-design bandhgala suitBlue self-desig...         Blue   \n",
       "4  Brown and off-white printed casual shirt, has ...        White   \n",
       "\n",
       "                                   DescriptionVector  \n",
       "0  [0.027645713, -0.0026341556, -0.003588426, 0.0...  \n",
       "1  [-0.024660744, -0.028755462, -0.02033244, 0.03...  \n",
       "2  [-0.046943355, 0.08182783, 0.048335187, -0.000...  \n",
       "3  [-0.015098742, -0.010285478, 0.009487344, -0.0...  \n",
       "4  [-0.017746514, 0.0062095993, 0.021813946, 0.02...  "
      ]
     },
     "execution_count": 13,
     "metadata": {},
     "output_type": "execute_result"
    }
   ],
   "source": [
    "df.head()"
   ]
  },
  {
   "cell_type": "markdown",
   "metadata": {},
   "source": [
    "## Creating a new index in Elastic Search"
   ]
  },
  {
   "cell_type": "code",
   "execution_count": 15,
   "metadata": {},
   "outputs": [
    {
     "data": {
      "text/plain": [
       "ObjectApiResponse({'acknowledged': True, 'shards_acknowledged': True, 'index': 'all_products'})"
      ]
     },
     "execution_count": 15,
     "metadata": {},
     "output_type": "execute_result"
    }
   ],
   "source": [
    "#elastic search is a json database - so data must be in json format\n",
    "from indexMapping import indexMapping\n",
    "es.indices.create(index=\"all_products\", mappings=indexMapping)"
   ]
  },
  {
   "cell_type": "markdown",
   "metadata": {},
   "source": [
    "## Ingesting the data into the index"
   ]
  },
  {
   "cell_type": "code",
   "execution_count": 16,
   "metadata": {},
   "outputs": [],
   "source": [
    "record_list = df.to_dict(\"records\")"
   ]
  },
  {
   "cell_type": "code",
   "execution_count": 17,
   "metadata": {},
   "outputs": [
    {
     "data": {
      "text/plain": [
       "{'ProductID': 10017413,\n",
       " 'ProductName': 'DKNY Unisex Black & Grey Printed Medium Trolley Bag',\n",
       " 'ProductBrand': 'DKNY',\n",
       " 'Gender': 'Unisex',\n",
       " 'Price (INR)': 11745,\n",
       " 'NumImages': 7,\n",
       " 'Description': 'Black and grey printed medium trolley bag, secured with a TSA lockOne handle on the top and one on the side, has a trolley with a retractable handle on the top and four corner mounted inline skate wheelsOne main zip compartment, zip lining, two compression straps with click clasps, one zip compartment on the flap with three zip pocketsWarranty: 5 yearsWarranty provided by Brand Owner / Manufacturer',\n",
       " 'PrimaryColor': ' Black',\n",
       " 'DescriptionVector': array([ 2.76457127e-02, -2.63415556e-03, -3.58842593e-03,  5.13587482e-02,\n",
       "         3.09660304e-02,  1.40507035e-02,  7.27053918e-03,  3.13871577e-02,\n",
       "        -6.23788275e-02, -3.82880564e-03,  3.15213986e-02,  7.55473524e-02,\n",
       "         2.12640106e-03,  4.64893691e-02,  5.07449023e-02, -1.71941034e-02,\n",
       "         1.22891990e-02, -1.95682645e-02, -9.64853242e-02,  3.52685549e-03,\n",
       "        -1.83509123e-02,  2.58225407e-02, -3.12243011e-02,  5.46113700e-02,\n",
       "         2.11241134e-02,  8.97159427e-03,  1.99166853e-02,  2.25223023e-02,\n",
       "         5.33211837e-03, -5.24597652e-02,  2.56655142e-02, -2.64644250e-02,\n",
       "         1.60459522e-02, -2.47584563e-02,  1.45433398e-06, -5.99339195e-02,\n",
       "        -4.21298333e-02, -5.82053326e-03, -1.85586959e-02, -6.88409880e-02,\n",
       "         4.52963673e-02,  7.06149871e-03,  3.00955139e-02, -7.18990788e-02,\n",
       "         2.67854109e-02, -6.78083897e-02,  1.52006289e-02,  7.82434195e-02,\n",
       "        -3.86550240e-02, -1.53426789e-02,  3.39755863e-02,  1.37782376e-02,\n",
       "        -1.47243487e-02, -2.74836365e-03,  2.31591351e-02, -4.98684868e-02,\n",
       "        -5.12828538e-03,  5.24752662e-02,  1.36131477e-02, -1.93231888e-02,\n",
       "        -2.72569880e-02,  4.11068462e-02,  4.80893999e-02, -2.70953756e-02,\n",
       "         4.11908589e-02,  4.60447408e-02, -6.37177229e-02,  1.31805046e-02,\n",
       "         1.30296301e-03,  4.09116894e-02,  6.41552880e-02, -4.79834192e-02,\n",
       "         1.10402296e-03,  7.25233480e-02, -7.41996701e-05,  2.57206522e-03,\n",
       "         2.96354890e-02,  2.96353940e-02,  1.66540518e-02,  1.16769755e-02,\n",
       "        -4.72042188e-02,  6.52726740e-02, -5.69467060e-02,  5.62868565e-02,\n",
       "         2.87739914e-02,  3.27831879e-02,  2.21507885e-02,  2.87624989e-02,\n",
       "         9.41022858e-03, -2.78681852e-02,  5.07256202e-03, -1.35145849e-02,\n",
       "         2.92994212e-02,  1.73486657e-02, -7.76371965e-03, -8.01694319e-02,\n",
       "         5.42523041e-02, -5.81911765e-02,  3.02956197e-02, -2.88304146e-02,\n",
       "         1.04824817e-02,  4.99632172e-02, -1.98193360e-02,  2.69686058e-03,\n",
       "        -5.78304054e-03,  3.49555202e-02, -1.04185231e-02, -1.53061061e-03,\n",
       "        -8.06272104e-02,  3.73889431e-02,  2.62705032e-02, -2.40432303e-02,\n",
       "        -4.65659499e-02,  3.46576869e-02, -3.50580402e-02,  2.76909024e-02,\n",
       "        -1.99475680e-02,  2.66634375e-02,  3.83039378e-02, -3.57967080e-03,\n",
       "        -1.11200446e-02, -3.43021452e-02, -5.00616170e-02, -2.43415497e-03,\n",
       "         2.01844089e-02, -4.51827869e-02, -4.48808484e-02, -4.15879562e-02,\n",
       "        -1.21018216e-02,  4.56553884e-02, -4.09717001e-02,  3.33761647e-02,\n",
       "         4.05119322e-02, -1.42122190e-02, -2.18980946e-02,  2.38487665e-02,\n",
       "        -3.59017737e-02, -3.51187587e-02, -5.59867583e-02, -2.04213355e-02,\n",
       "        -1.90290145e-03, -2.63332948e-02,  6.62034238e-03,  2.82201692e-02,\n",
       "        -3.89377475e-02, -3.85373533e-02,  3.99999581e-02,  3.73889925e-03,\n",
       "        -3.34511213e-02, -6.12202771e-02, -7.10494071e-02,  1.82614271e-02,\n",
       "         4.99362051e-02, -1.96538530e-02,  3.62080708e-02,  1.36305830e-02,\n",
       "         3.72649617e-02, -1.86512936e-02, -2.54692584e-02,  1.35053955e-02,\n",
       "         2.56375503e-02, -2.38314904e-02, -2.21330021e-02,  2.39099213e-03,\n",
       "        -5.98022304e-02, -2.13336311e-02, -9.58669651e-03, -6.31959923e-03,\n",
       "        -3.08501106e-02, -1.75865237e-02, -1.89546216e-02, -3.34729888e-02,\n",
       "        -2.12754053e-03, -3.45622678e-03, -1.71548277e-02,  7.40248114e-02,\n",
       "         3.30882054e-03, -5.94480596e-02, -4.20914553e-02, -4.85311402e-03,\n",
       "        -1.24044595e-02, -1.11631148e-01,  5.64272031e-02, -7.50041101e-03,\n",
       "        -2.17739237e-03, -8.79484788e-03, -5.20502310e-03,  2.68776342e-03,\n",
       "        -1.67976972e-02, -6.23679981e-02,  3.14837694e-02, -3.52155715e-02,\n",
       "         8.10610279e-02,  3.64166535e-02,  9.73874470e-04, -3.69658656e-02,\n",
       "         2.52882321e-03, -7.46890008e-02,  8.42568278e-03, -1.65019929e-02,\n",
       "        -7.72046372e-02, -1.85623039e-02,  5.66539355e-03, -1.47190578e-02,\n",
       "        -1.65353697e-02,  4.13801186e-02, -2.33763587e-02,  9.85992141e-03,\n",
       "        -5.00025116e-02,  4.48241038e-03,  3.75415087e-02,  2.56805513e-02,\n",
       "        -2.02899589e-03, -5.84916435e-02, -1.47917503e-02, -1.84911559e-03,\n",
       "         2.87932474e-02, -2.44093239e-02,  1.05892103e-02,  4.51088883e-02,\n",
       "         6.12144060e-02,  1.33142816e-02,  5.87449931e-02, -1.59003865e-02,\n",
       "         4.00180258e-02,  1.64473765e-02,  1.43470159e-02, -2.68045831e-02,\n",
       "         7.16699511e-02,  8.84751510e-03, -6.41269563e-03,  1.15752465e-03,\n",
       "        -3.68434228e-02,  2.93019470e-02, -3.14094014e-02, -6.79298490e-03,\n",
       "         8.94473046e-02,  5.99377565e-02, -8.24593008e-03,  2.58782934e-02,\n",
       "        -4.22716103e-02,  1.91916991e-02,  2.88826472e-04,  4.13909974e-03,\n",
       "        -5.83746396e-02,  6.08170256e-02, -3.75355147e-02, -3.70272547e-02,\n",
       "        -6.11730758e-03, -1.42939202e-02, -8.24463461e-03,  1.60577358e-03,\n",
       "         3.51403542e-02, -1.88068375e-02, -2.16341820e-02, -5.51069006e-02,\n",
       "        -5.03739342e-03,  3.81738245e-02,  2.06449479e-02,  2.99774040e-03,\n",
       "         2.01758575e-02, -8.43667891e-03,  3.04709678e-03, -2.86362600e-03,\n",
       "         5.25487773e-02,  1.00488611e-03,  5.10405041e-02,  9.56335478e-03,\n",
       "         1.99479330e-02, -3.06443479e-02, -6.84500160e-03, -1.10092321e-02,\n",
       "         1.72649641e-02, -9.95551422e-03, -1.40040508e-02, -4.78949174e-02,\n",
       "         4.48318757e-02,  2.99811782e-03, -5.05880686e-03, -1.37886927e-02,\n",
       "        -1.93421096e-02, -2.25321706e-02, -4.01583053e-02, -2.50680204e-02,\n",
       "        -1.73990540e-02,  7.81957246e-03, -4.38656434e-02,  1.10517619e-02,\n",
       "        -5.72631927e-03,  2.99919397e-02, -4.39989045e-02, -4.39116440e-04,\n",
       "        -6.25559501e-03, -3.10895517e-02,  1.94589421e-02, -2.74247937e-02,\n",
       "        -9.93119366e-03, -4.21829671e-02,  2.52597351e-02,  2.97782756e-02,\n",
       "         4.61617531e-03, -3.88785936e-02, -3.68001647e-02,  8.19745474e-03,\n",
       "        -1.57792401e-03, -3.11236642e-03,  2.27060728e-02, -3.63274142e-02,\n",
       "        -2.32267156e-02,  3.96532491e-02, -1.75962243e-02,  7.61349080e-03,\n",
       "        -4.49805856e-02, -9.71957669e-02,  6.55064685e-03, -4.07041647e-02,\n",
       "        -4.23454009e-02,  2.21425332e-02, -1.69917289e-02,  9.62367728e-02,\n",
       "        -4.27953713e-02,  2.88663413e-02,  3.25763710e-02, -1.60414483e-02,\n",
       "        -2.20178887e-02, -4.18678895e-02, -6.52636588e-02, -2.43135709e-02,\n",
       "         3.35063860e-02, -2.17000023e-02,  4.89502773e-02, -3.22210938e-02,\n",
       "         5.66820130e-02,  3.94778773e-02, -6.04452714e-02, -8.55642259e-02,\n",
       "        -4.11013141e-02, -5.89900976e-03,  4.48788814e-02,  3.86383943e-02,\n",
       "         2.37330440e-02, -3.74439941e-03, -7.40817096e-03, -3.48128006e-02,\n",
       "        -1.26408217e-02, -8.32106844e-02, -7.77613837e-03,  8.23905692e-04,\n",
       "        -2.08235513e-02,  4.96372022e-03,  1.02757579e-02,  7.34596848e-02,\n",
       "         4.56728078e-02, -1.11290608e-02, -8.89105024e-04,  3.50866914e-02,\n",
       "        -5.21513692e-04,  3.29106152e-02,  3.92490551e-02,  9.39373672e-03,\n",
       "        -3.05088591e-02,  1.42534142e-02, -1.87804282e-04,  1.48091689e-02,\n",
       "         3.88667993e-02,  2.09766570e-02,  1.69475749e-02,  6.42410368e-02,\n",
       "         1.02788955e-02,  1.05284750e-02,  4.56124060e-02,  4.24703173e-02,\n",
       "         3.24788354e-02,  3.20181958e-02, -2.87148394e-02, -7.86706712e-03,\n",
       "         9.84602422e-03,  4.08064835e-02, -1.92639623e-02, -6.10286323e-03,\n",
       "         5.00563011e-02,  1.64055992e-02,  4.35196832e-02, -1.09658344e-02,\n",
       "         3.21553312e-02, -3.21289860e-02,  4.05222364e-03, -1.42193399e-02,\n",
       "        -1.72177032e-02, -2.24059783e-02,  3.41359377e-02,  1.79261547e-02,\n",
       "        -8.28822609e-03,  5.04023395e-02, -3.55288163e-02,  2.78953649e-02,\n",
       "         2.46793428e-03, -2.67915823e-03, -3.25404704e-02,  1.17414733e-02,\n",
       "        -2.00907513e-02,  4.24936488e-02,  3.08380071e-02,  1.66973211e-02,\n",
       "         3.07388511e-02, -4.58765402e-02, -5.39877173e-03,  1.92522071e-02,\n",
       "        -2.37640459e-02, -4.52495776e-02, -3.50062065e-02, -6.26836857e-03,\n",
       "        -3.49792019e-02,  6.37186095e-02, -4.95001748e-02, -8.27830657e-02,\n",
       "         2.43394589e-03, -7.25407526e-02,  5.77692054e-02, -3.55351605e-02,\n",
       "         1.10673963e-03,  7.00689270e-04, -2.26268284e-02,  1.01694763e-02,\n",
       "         1.71284433e-02, -1.74753871e-02, -3.18569988e-02, -6.42487854e-02,\n",
       "        -3.10206637e-02, -3.18854563e-02,  3.82462144e-02,  3.10539510e-02,\n",
       "        -2.99190823e-02,  1.83082074e-02, -5.88304624e-02, -2.38676779e-02,\n",
       "         3.73598188e-02,  2.49048416e-02, -6.08943217e-02, -8.83552711e-03,\n",
       "        -4.21162844e-02, -4.55484167e-02, -1.47925168e-02, -2.38329731e-02,\n",
       "        -4.74841567e-03, -4.89295572e-02, -1.93930455e-02, -4.01563868e-02,\n",
       "        -8.04102048e-03, -7.47549534e-02,  2.10536039e-03,  1.64750759e-02,\n",
       "         8.30393732e-02,  1.55175356e-02,  4.70302515e-02, -4.48356234e-02,\n",
       "         5.50825559e-02, -7.38568678e-02, -3.09090186e-02,  1.67554282e-02,\n",
       "         5.06773256e-02,  2.49253176e-02, -7.24062100e-02,  3.98998745e-02,\n",
       "         2.13710684e-03, -1.89518891e-02, -1.86337493e-02,  1.30079305e-02,\n",
       "         1.97984278e-02, -3.67520303e-02, -4.02528942e-02, -4.21340065e-03,\n",
       "        -1.62019450e-02, -3.34685901e-03,  4.09932472e-02, -2.45060213e-02,\n",
       "        -1.03827529e-02, -4.73152995e-02,  5.08268215e-02, -5.92385046e-03,\n",
       "        -3.16179590e-04, -6.27374323e-03,  1.60506982e-02,  1.63368024e-02,\n",
       "         2.72356495e-02,  2.05410402e-02,  2.15954594e-02, -1.16071133e-02,\n",
       "         1.46542266e-02, -5.12825139e-02,  1.71000399e-02, -6.01725839e-02,\n",
       "        -1.86470784e-02, -1.95505209e-02,  5.43011576e-02,  1.48305163e-01,\n",
       "         6.39533997e-02, -4.22865245e-03,  2.49036774e-02, -5.27662970e-02,\n",
       "         8.22670665e-03,  3.78340445e-02, -6.19615801e-03, -3.93907130e-02,\n",
       "         3.58749367e-02,  1.18882516e-02,  2.66931690e-02,  1.62879769e-02,\n",
       "         6.09422289e-02, -1.60511378e-02,  3.50164279e-04,  2.91721709e-02,\n",
       "        -7.17702927e-03, -2.95378156e-02,  6.30704314e-02,  5.02150021e-02,\n",
       "        -5.33038452e-02, -9.42940358e-03,  1.98485237e-02, -2.10123342e-02,\n",
       "         3.09328027e-02, -1.42165739e-02,  3.32838371e-02,  2.94383317e-02,\n",
       "         1.26157179e-02,  4.95138243e-02,  1.15884803e-02,  2.58324156e-03,\n",
       "         4.47752513e-02,  5.12728840e-02, -2.06901599e-02, -8.23471975e-03,\n",
       "        -7.23885605e-03,  1.32842362e-02, -5.08004650e-02,  7.57653415e-02,\n",
       "        -8.74613374e-02,  4.24297564e-02,  1.12237800e-02,  9.68607492e-05,\n",
       "        -4.58215997e-02, -1.55913141e-02,  2.53332462e-02, -5.37828449e-03,\n",
       "        -3.63489031e-04,  3.69622633e-02, -4.63642515e-02, -1.23736309e-03,\n",
       "         5.76702096e-02, -7.09539205e-02,  1.54587133e-02, -6.11975305e-02,\n",
       "        -1.10918924e-01, -3.09239514e-03,  2.27635466e-02, -4.78636504e-33,\n",
       "         3.12271025e-02, -6.63604066e-02, -2.36832667e-02,  2.42750160e-02,\n",
       "        -2.04059342e-03, -4.47724527e-03,  4.22923453e-03, -4.12166398e-03,\n",
       "        -3.53074372e-02, -2.23746821e-02,  1.80853605e-02, -3.13034351e-03,\n",
       "         3.27593647e-02,  4.38892748e-03,  6.06583133e-02,  1.11367907e-02,\n",
       "         2.70508192e-02, -7.78140360e-03, -6.00765832e-03, -2.07056887e-02,\n",
       "        -3.77762802e-02, -9.80798807e-03,  4.01679575e-02,  3.02953944e-02,\n",
       "         5.43257631e-02, -9.85897481e-02, -2.94540264e-03,  2.91571599e-02,\n",
       "         3.44493762e-02, -8.55997298e-03, -7.64997452e-02,  2.66992231e-03,\n",
       "         2.50923466e-02,  3.52499485e-02,  5.67993149e-02,  2.29066424e-02,\n",
       "         5.05905673e-02, -4.30481397e-02,  3.37688364e-02,  9.36791673e-03,\n",
       "         1.14865173e-02, -5.23017831e-02, -1.63467471e-02, -1.74133964e-02,\n",
       "        -8.20963178e-05,  6.74259104e-03, -3.11616864e-02,  3.66181172e-02,\n",
       "        -3.53261679e-02,  1.54255284e-02,  6.49727434e-02,  1.90679170e-02,\n",
       "        -2.05425397e-02, -1.29935276e-02,  3.07241697e-02,  3.60369347e-02,\n",
       "        -7.30978977e-03, -3.42608988e-02,  3.69404815e-02, -1.68614499e-02,\n",
       "        -6.95914403e-02, -3.51376459e-02, -1.96793154e-02, -2.16358360e-02,\n",
       "        -1.91741157e-02, -7.22260308e-03, -9.27108526e-03,  3.80431525e-02,\n",
       "        -7.26441219e-02, -3.93156894e-02,  3.23998072e-04, -1.54595207e-02,\n",
       "        -5.66322803e-02, -2.86028702e-02, -3.38706821e-02, -8.40225350e-03,\n",
       "         3.27711664e-02, -1.23575171e-02,  5.67502379e-02,  1.07323565e-01,\n",
       "         1.62487186e-03,  1.98507588e-02, -4.92326096e-02,  4.31433832e-03,\n",
       "        -2.76762657e-02, -3.61421518e-02,  2.83704922e-02, -3.32536064e-02,\n",
       "         6.01910315e-02,  7.16082752e-03, -3.21195908e-02,  1.00305729e-01,\n",
       "         2.48313490e-02,  3.09538152e-02, -1.87181833e-03, -1.96663868e-02,\n",
       "         2.54116338e-02,  2.17061453e-02, -1.50588388e-02,  9.17005818e-03,\n",
       "         3.92964436e-03,  5.89960553e-02, -3.26567478e-02, -7.23023266e-02,\n",
       "         4.42397743e-02, -8.09966307e-03,  3.66033018e-02, -6.47036731e-03,\n",
       "        -5.15289865e-02,  5.74738346e-02,  3.27605568e-02, -3.47869135e-02,\n",
       "         1.15351402e-03, -5.10835648e-02, -2.02767411e-03, -1.37376664e-02,\n",
       "        -2.26376834e-03, -1.46536035e-02,  2.56580655e-02, -3.41950655e-02,\n",
       "         3.11359614e-02,  1.11530321e-02, -2.26282980e-02, -1.86126432e-04,\n",
       "        -3.42383236e-02, -3.47218267e-03,  7.12007377e-03,  2.85438392e-02,\n",
       "         3.43615338e-02,  4.17477973e-02,  1.46220298e-02, -1.00900810e-02,\n",
       "         2.19874835e-07,  1.26098486e-04, -3.26405093e-02,  2.73181144e-02,\n",
       "        -4.31562737e-02,  6.41157245e-03,  3.25418077e-03,  2.88382708e-03,\n",
       "         1.68630704e-02, -3.92202986e-03, -3.99217755e-02, -2.82339677e-02,\n",
       "         6.63924124e-03,  9.65188071e-03, -6.46898465e-04,  8.58047828e-02,\n",
       "        -5.46625741e-02,  9.56461728e-02, -3.35840695e-02, -3.86989005e-02,\n",
       "         1.08061824e-02,  8.10266435e-02,  4.47362429e-03,  5.54964431e-02,\n",
       "         2.06635296e-02, -1.76943410e-02, -7.89713040e-02, -9.13335010e-03,\n",
       "        -5.91489375e-02, -1.78458653e-02, -2.83569563e-02,  2.71814782e-02,\n",
       "         2.92244460e-02, -4.04385105e-02, -2.55332757e-02,  1.53778652e-02,\n",
       "         1.23813320e-02,  2.65146997e-02,  4.36861068e-02,  7.80087113e-02,\n",
       "         1.78202018e-02, -3.01126875e-02,  1.06307333e-02, -5.10762371e-02,\n",
       "        -1.62147935e-02,  2.78100930e-02,  5.96087687e-02, -1.07441740e-02,\n",
       "         5.74156009e-02, -4.65736464e-02,  4.81006363e-03,  3.75613086e-02,\n",
       "        -2.49797646e-02,  1.24980183e-02,  3.64437364e-02, -1.03774881e-02,\n",
       "         3.94604243e-02,  5.78910224e-02, -5.18749356e-02, -1.85877718e-02,\n",
       "        -3.52992816e-03, -2.97395103e-02,  4.59078476e-02,  1.81118143e-03,\n",
       "         8.85506626e-03,  5.07806130e-02,  4.10657655e-03,  5.75006520e-03,\n",
       "         1.64168634e-34, -4.68509877e-03, -6.60454808e-03,  2.19718162e-02,\n",
       "        -4.97994758e-02,  2.23752130e-02,  8.27587675e-04,  6.58981577e-02,\n",
       "        -3.05624325e-02,  8.99442192e-03, -3.16481367e-02, -3.01022716e-02],\n",
       "       dtype=float32)}"
      ]
     },
     "execution_count": 17,
     "metadata": {},
     "output_type": "execute_result"
    }
   ],
   "source": [
    "record_list[0]"
   ]
  },
  {
   "cell_type": "code",
   "execution_count": 19,
   "metadata": {},
   "outputs": [],
   "source": [
    "for record in record_list:\n",
    "    try:\n",
    "        es.index(index=\"all_products\", document=record, id=record[\"ProductID\"])\n",
    "    except Exception as e:\n",
    "        print(e)"
   ]
  },
  {
   "cell_type": "code",
   "execution_count": 20,
   "metadata": {},
   "outputs": [
    {
     "data": {
      "text/plain": [
       "ObjectApiResponse({'count': 500, '_shards': {'total': 1, 'successful': 1, 'skipped': 0, 'failed': 0}})"
      ]
     },
     "execution_count": 20,
     "metadata": {},
     "output_type": "execute_result"
    }
   ],
   "source": [
    "es.count(index=\"all_products\")"
   ]
  },
  {
   "cell_type": "markdown",
   "metadata": {},
   "source": [
    "## Searching the Data"
   ]
  },
  {
   "cell_type": "code",
   "execution_count": 22,
   "metadata": {},
   "outputs": [
    {
     "name": "stderr",
     "output_type": "stream",
     "text": [
      "C:\\Users\\SAMEERA\\AppData\\Local\\Temp\\ipykernel_2424\\1724135637.py:11: GeneralAvailabilityWarning: This API is in technical preview and may be changed or removed in a future release. Elastic will work to fix any issues, but features in technical preview are not subject to the support SLA of official GA features.\n",
      "  res = es.knn_search(index=\"all_products\", knn=query , source=[\"ProductName\",\"Description\"])\n",
      "C:\\Users\\SAMEERA\\AppData\\Local\\Temp\\ipykernel_2424\\1724135637.py:11: ElasticsearchWarning: The kNN search API has been replaced by the `knn` option in the search API.\n",
      "  res = es.knn_search(index=\"all_products\", knn=query , source=[\"ProductName\",\"Description\"])\n"
     ]
    },
    {
     "data": {
      "text/plain": [
       "[{'_index': 'all_products',\n",
       "  '_id': '10015983',\n",
       "  '_score': 0.48430678,\n",
       "  '_source': {'ProductName': 'Tokyo Talkies Women Green Solid Top',\n",
       "   'Description': 'Green solid regular top,has v-neck,bell sleeves'}},\n",
       " {'_index': 'all_products',\n",
       "  '_id': '10013483',\n",
       "  '_score': 0.47075492,\n",
       "  '_source': {'ProductName': 'PARFAIT Plus Size Black Striped Non-Wired Lightly Padded T-shirt Bra P5252',\n",
       "   'Description': 'Black striped medium-coverage T-shirt braLightly Padded and Non-Wired seamless cupsRegular straps and back closureBack style: RegularFeature: All Day Comfort'}}]"
      ]
     },
     "execution_count": 22,
     "metadata": {},
     "output_type": "execute_result"
    }
   ],
   "source": [
    "input_keyword = \"Black caps\"\n",
    "vector_of_input_keyword = model.encode(input_keyword)\n",
    "\n",
    "query = {\n",
    "    \"field\" : \"DescriptionVector\",\n",
    "    \"query_vector\" : vector_of_input_keyword,\n",
    "    \"k\" : 2,\n",
    "    \"num_candidates\" : 500, \n",
    "}\n",
    "\n",
    "res = es.knn_search(index=\"all_products\", knn=query , source=[\"ProductName\",\"Description\"])\n",
    "res[\"hits\"][\"hits\"]"
   ]
  }
 ],
 "metadata": {
  "kernelspec": {
   "display_name": "semantic-search",
   "language": "python",
   "name": "python3"
  },
  "language_info": {
   "codemirror_mode": {
    "name": "ipython",
    "version": 3
   },
   "file_extension": ".py",
   "mimetype": "text/x-python",
   "name": "python",
   "nbconvert_exporter": "python",
   "pygments_lexer": "ipython3",
   "version": "3.9.0"
  }
 },
 "nbformat": 4,
 "nbformat_minor": 2
}
